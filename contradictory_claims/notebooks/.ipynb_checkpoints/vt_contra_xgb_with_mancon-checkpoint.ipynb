{
 "cells": [
  {
   "cell_type": "markdown",
   "metadata": {
    "colab_type": "text",
    "id": "ekANMdbQw2fX"
   },
   "source": [
    "# Import Dependancies"
   ]
  },
  {
   "cell_type": "code",
   "execution_count": 0,
   "metadata": {
    "colab": {},
    "colab_type": "code",
    "id": "Kj-TQ70sNvzn"
   },
   "outputs": [],
   "source": [
    "#pip install --upgrade xgboost"
   ]
  },
  {
   "cell_type": "code",
   "execution_count": 0,
   "metadata": {
    "colab": {},
    "colab_type": "code",
    "id": "wUGF3zpMwlZ-"
   },
   "outputs": [],
   "source": [
    "import os\n",
    "import sys\n",
    "import csv\n",
    "\n",
    "import pandas as pd\n",
    "#pd.set_option('display.max_rows', None)\n",
    "# pd.options.display.float_format = '{:, .2f}'.format\n",
    "pd.set_option('display.max_colwidth',500)\n",
    "pd.set_option('display.max_columns', 100)\n",
    "\n",
    "import numpy as np\n",
    "from numpy import save, load\n",
    "from numpy import savez_compressed\n",
    "from scipy.sparse import csr_matrix\n",
    "from scipy.sparse import vstack\n",
    "import copy\n",
    "import pickle\n",
    "\n",
    "#from scipy.misc import comb, logsumexp\n",
    "from sklearn.manifold import TSNE #a tool to visualize high dimensional data\n",
    "from sklearn.feature_extraction.text import CountVectorizer, TfidfTransformer\n",
    "from sklearn.feature_extraction.text import TfidfVectorizer\n",
    "from sklearn.metrics.pairwise import cosine_similarity\n",
    "from sklearn.decomposition import TruncatedSVD # dimensionality reduction using truncated SVD (AKA LSA)\n",
    "from sklearn.model_selection import train_test_split\n",
    "from sklearn.model_selection import cross_val_score, cross_val_predict, StratifiedKFold\n",
    "from sklearn.model_selection import KFold\n",
    "from sklearn.preprocessing import StandardScaler\n",
    "from sklearn.pipeline import Pipeline\n",
    "from sklearn import preprocessing\n",
    "from sklearn.metrics import accuracy_score\n",
    "\n",
    "\n",
    "import xgboost as xgb\n",
    "from sklearn.model_selection import GridSearchCV\n",
    "\n",
    "\n",
    "import nltk\n",
    "from nltk.tokenize import word_tokenize\n",
    "from nltk import FreqDist\n",
    "from nltk.corpus import stopwords\n",
    "from nltk.corpus import gutenberg\n",
    "from nltk.collocations import *\n",
    "import string #python module\n",
    "import re # python regex module\n",
    "from nltk.tokenize import RegexpTokenizer\n",
    "from nltk.stem import SnowballStemmer\n",
    "from nltk.tokenize import sent_tokenize\n",
    "\n",
    "import gensim\n",
    "from gensim.models import Word2Vec\n",
    "\n",
    "import matplotlib.pyplot as plt\n",
    "from mpl_toolkits.mplot3d import Axes3D\n",
    "%matplotlib inline\n",
    "\n",
    "np.random.seed(0)\n",
    "\n",
    "from sklearn.preprocessing import normalize\n",
    "from functools import reduce"
   ]
  },
  {
   "cell_type": "code",
   "execution_count": 0,
   "metadata": {
    "colab": {},
    "colab_type": "code",
    "id": "f18RyJZJ67jQ"
   },
   "outputs": [],
   "source": [
    "# load data | train set = mancon corpus features; test set = cord corpus features\n",
    "\n",
    "path = \"/content/drive/My Drive/CoronaWhy/Task-VT/sub_task_CONTRADICTION/Contradiction_drug_individual_claims_filtered(1)/all_engineered_contra_data.pkl\"\n",
    "with open (path, \"rb\") as outfile:\n",
    "    data = pickle.load(outfile)\n",
    "\n",
    "X_train = data[:17911]\n",
    "y_train = pd.read_csv(\"/content/drive/My Drive/CoronaWhy/Task-VT/sub_task_CONTRADICTION/Contradiction_drug_individual_claims_filtered(1)/y_train.csv\", header = None)\n",
    "y_train = y_train.iloc[:,1]\n",
    "#y_train = y_train.values.reshape(-1,1)\n",
    "\n",
    "X_test = data[17911:]"
   ]
  },
  {
   "cell_type": "markdown",
   "metadata": {
    "colab_type": "text",
    "id": "CIKJU3j-xAOE"
   },
   "source": [
    "# xgboost"
   ]
  },
  {
   "cell_type": "code",
   "execution_count": 3,
   "metadata": {
    "colab": {
     "base_uri": "https://localhost:8080/",
     "height": 34
    },
    "colab_type": "code",
    "executionInfo": {
     "elapsed": 6547,
     "status": "ok",
     "timestamp": 1591889529861,
     "user": {
      "displayName": "Matan G",
      "photoUrl": "",
      "userId": "11084293173807468288"
     },
     "user_tz": 240
    },
    "id": "o73VCwtAyUjv",
    "outputId": "5fdc15a2-eaa7-44fc-c5f4-cf4b50fb8c0c"
   },
   "outputs": [
    {
     "name": "stdout",
     "output_type": "stream",
     "text": [
      "training accuracy: 99.84%\n"
     ]
    }
   ],
   "source": [
    "boost_clf = xgb.XGBClassifier(verbosity = 2, max_depth = 6, tree_method= 'gpu_hist' ,predictor = 'gpu_predictor')\n",
    "boost_clf.fit(X_train, y_train)\n",
    "\n",
    "training_preds = boost_clf.predict(X_train)\n",
    "test_preds = boost_clf.predict(X_test)\n",
    "\n",
    "training_accuracy = accuracy_score(y_train, training_preds)\n",
    "#test_accuracy = accuracy_score(y_test, test_preds)\n",
    "\n",
    "print(\"training accuracy: {:.4}%\" .format(training_accuracy * 100))\n",
    "#print(\"test accuracy: {:.4}%\" .format(test_accuracy * 100))"
   ]
  },
  {
   "cell_type": "code",
   "execution_count": 4,
   "metadata": {
    "colab": {
     "base_uri": "https://localhost:8080/",
     "height": 51
    },
    "colab_type": "code",
    "executionInfo": {
     "elapsed": 785,
     "status": "ok",
     "timestamp": 1591889555509,
     "user": {
      "displayName": "Matan G",
      "photoUrl": "",
      "userId": "11084293173807468288"
     },
     "user_tz": 240
    },
    "id": "cFXy9uq3tvP2",
    "outputId": "6b93cc0a-eb24-4d57-e405-864c374ce51b"
   },
   "outputs": [
    {
     "name": "stdout",
     "output_type": "stream",
     "text": [
      "<class 'pandas.core.series.Series'>\n",
      "(28643,)\n"
     ]
    }
   ],
   "source": [
    "test_preds = pd.Series(test_preds).rename(\"prediction\")\n",
    "print(type(test_preds))\n",
    "print(test_preds.shape)"
   ]
  },
  {
   "cell_type": "code",
   "execution_count": 6,
   "metadata": {
    "colab": {
     "base_uri": "https://localhost:8080/",
     "height": 34
    },
    "colab_type": "code",
    "executionInfo": {
     "elapsed": 2436,
     "status": "ok",
     "timestamp": 1591889642812,
     "user": {
      "displayName": "Matan G",
      "photoUrl": "",
      "userId": "11084293173807468288"
     },
     "user_tz": 240
    },
    "id": "TzQQnv4sw-ei",
    "outputId": "ffcad978-5034-4f27-e9e3-d85ae2a0f58d"
   },
   "outputs": [
    {
     "name": "stdout",
     "output_type": "stream",
     "text": [
      "(28643, 10)\n"
     ]
    }
   ],
   "source": [
    "# join test preds with corpus dataset\n",
    "corpus = pd.read_excel(\"/content/drive/My Drive/CoronaWhy/Task-VT/sub_task_CONTRADICTION/Contradiction_drug_individual_claims_filtered(1)/drug_individual_claims_similarity_annotated_v05.19.xlsx\")\n",
    "print(corpus.shape)\n",
    "test_corpus_with_preds = pd.concat([corpus, test_preds], axis=1 )"
   ]
  },
  {
   "cell_type": "code",
   "execution_count": 8,
   "metadata": {
    "colab": {
     "base_uri": "https://localhost:8080/",
     "height": 355
    },
    "colab_type": "code",
    "executionInfo": {
     "elapsed": 823,
     "status": "ok",
     "timestamp": 1591889660276,
     "user": {
      "displayName": "Matan G",
      "photoUrl": "",
      "userId": "11084293173807468288"
     },
     "user_tz": 240
    },
    "id": "1_UqGzYlw-uN",
    "outputId": "d59914ca-51bd-4664-b4d2-110395fa909f"
   },
   "outputs": [
    {
     "data": {
      "text/html": [
       "<div>\n",
       "<style scoped>\n",
       "    .dataframe tbody tr th:only-of-type {\n",
       "        vertical-align: middle;\n",
       "    }\n",
       "\n",
       "    .dataframe tbody tr th {\n",
       "        vertical-align: top;\n",
       "    }\n",
       "\n",
       "    .dataframe thead th {\n",
       "        text-align: right;\n",
       "    }\n",
       "</style>\n",
       "<table border=\"1\" class=\"dataframe\">\n",
       "  <thead>\n",
       "    <tr style=\"text-align: right;\">\n",
       "      <th></th>\n",
       "      <th>Unnamed: 0</th>\n",
       "      <th>paper1_cord_uid</th>\n",
       "      <th>paper2_cord_uid</th>\n",
       "      <th>text1</th>\n",
       "      <th>text2</th>\n",
       "      <th>similarity_score</th>\n",
       "      <th>drugs1</th>\n",
       "      <th>drugs2</th>\n",
       "      <th>annotation</th>\n",
       "      <th>evaluated_for</th>\n",
       "      <th>prediction</th>\n",
       "    </tr>\n",
       "  </thead>\n",
       "  <tbody>\n",
       "    <tr>\n",
       "      <th>28642</th>\n",
       "      <td>28642</td>\n",
       "      <td>zblitbo0</td>\n",
       "      <td>zph6r4il</td>\n",
       "      <td>cc-by-nc-nd 4.0 international license it is made available under a is the author/funder, who has granted medrxiv a license to display the preprint in perpetuity.</td>\n",
       "      <td>attention to patients with covid-19 with non-classic symptoms should increase to protect health providers.</td>\n",
       "      <td>0.569444</td>\n",
       "      <td>compro,factor ix,stimate,thrombin,ultiva,vasocon</td>\n",
       "      <td>lactate,ultiva</td>\n",
       "      <td>NaN</td>\n",
       "      <td>NaN</td>\n",
       "      <td>0</td>\n",
       "    </tr>\n",
       "  </tbody>\n",
       "</table>\n",
       "</div>"
      ],
      "text/plain": [
       "       Unnamed: 0 paper1_cord_uid paper2_cord_uid  \\\n",
       "28642       28642        zblitbo0        zph6r4il   \n",
       "\n",
       "                                                                                                                                                                   text1  \\\n",
       "28642  cc-by-nc-nd 4.0 international license it is made available under a is the author/funder, who has granted medrxiv a license to display the preprint in perpetuity.   \n",
       "\n",
       "                                                                                                            text2  \\\n",
       "28642  attention to patients with covid-19 with non-classic symptoms should increase to protect health providers.   \n",
       "\n",
       "       similarity_score                                            drugs1  \\\n",
       "28642          0.569444  compro,factor ix,stimate,thrombin,ultiva,vasocon   \n",
       "\n",
       "               drugs2 annotation evaluated_for  prediction  \n",
       "28642  lactate,ultiva        NaN           NaN           0  "
      ]
     },
     "execution_count": 8,
     "metadata": {
      "tags": []
     },
     "output_type": "execute_result"
    }
   ],
   "source": [
    "test_corpus_with_preds.tail(1)"
   ]
  },
  {
   "cell_type": "code",
   "execution_count": null,
   "metadata": {},
   "outputs": [],
   "source": [
    "# reverse label encoding\n",
    "\n",
    "test_corpus_with_preds[\"Prediction\"] = "
   ]
  },
  {
   "cell_type": "code",
   "execution_count": 0,
   "metadata": {
    "colab": {},
    "colab_type": "code",
    "id": "H6iqi-gyw-5g"
   },
   "outputs": [],
   "source": [
    "test_corpus_with_preds.to_excel(\"/content/drive/My Drive/CoronaWhy/Task-VT/sub_task_CONTRADICTION/Contradiction_drug_individual_claims_filtered(1)/test_corpus_with_preds.xlsx\")"
   ]
  },
  {
   "cell_type": "code",
   "execution_count": 0,
   "metadata": {
    "colab": {},
    "colab_type": "code",
    "id": "-SzlS0dCw--Y"
   },
   "outputs": [],
   "source": []
  },
  {
   "cell_type": "code",
   "execution_count": 0,
   "metadata": {
    "colab": {},
    "colab_type": "code",
    "id": "XxtSm1Ltw_DU"
   },
   "outputs": [],
   "source": []
  }
 ],
 "metadata": {
  "accelerator": "GPU",
  "colab": {
   "authorship_tag": "ABX9TyNGLWNRjYY6hCN+QlzvCwBb",
   "mount_file_id": "1h4U-Zuy5-agf6UShT4lQ23RcPddIlT7Y",
   "name": "xgboost_Contradiction_drug_individual_claims_with_BioWordVec.ipynb",
   "provenance": []
  },
  "kernelspec": {
   "display_name": "Python 3",
   "language": "python",
   "name": "python3"
  },
  "language_info": {
   "codemirror_mode": {
    "name": "ipython",
    "version": 3
   },
   "file_extension": ".py",
   "mimetype": "text/x-python",
   "name": "python",
   "nbconvert_exporter": "python",
   "pygments_lexer": "ipython3",
   "version": "3.6.6"
  },
  "toc": {
   "base_numbering": 1,
   "nav_menu": {},
   "number_sections": true,
   "sideBar": true,
   "skip_h1_title": false,
   "title_cell": "Table of Contents",
   "title_sidebar": "Contents",
   "toc_cell": false,
   "toc_position": {},
   "toc_section_display": true,
   "toc_window_display": false
  }
 },
 "nbformat": 4,
 "nbformat_minor": 1
}
