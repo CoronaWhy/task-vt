{
 "cells": [
  {
   "cell_type": "markdown",
   "metadata": {},
   "source": [
    "# INDRA baseline\n",
    "\n",
    "__Goal:__ Evaluate accuracy of INDRA models\n",
    "\n",
    "__Method:__ Test of INDRA Covid-19 model:\n",
    "1. Convert Fraunhofer COVID19 knowledge graph to INDRA statements\n",
    "2. Compare relations with relations from INDRA\n",
    "4. Calculate accuracy\n",
    "5. run error analysis\n",
    "\n",
    "\n",
    "__Data:__ covid-19-kg dataset, [Covid-19 model from INDRA](https://emmaa.indra.bio/dashboard/covid19?tab=model)\n",
    "\n",
    "__Tools:__ [INDRA](http://www.indra.bio/), [PyBEL](https://github.com/pybel/pybel), [pyobo](https://github.com/pyobo/pyobo)\n",
    "\n",
    "__Result:__ INDRA models accuracy, results of error analysis"
   ]
  },
  {
   "cell_type": "code",
   "execution_count": null,
   "metadata": {},
   "outputs": [],
   "source": [
    "import pybel\n",
    "import requests\n",
    "from indra.processors import bel\n",
    "from indra.util import batch_iter\n",
    "from indra.sources import indra_db_rest"
   ]
  },
  {
   "cell_type": "code",
   "execution_count": null,
   "metadata": {},
   "outputs": [],
   "source": [
    "#load graph pre-procesed by Charlie Hoyt: https://github.com/CoronaWhy/bel4corona/tree/master/data/covid19kg\n",
    "url = 'https://github.com/CoronaWhy/bel4corona/raw/master/data/covid19kg/covid19-fraunhofer-grounded.bel.nodelink.json'\n",
    "res = requests.get(url)\n",
    "graph = pybel.from_nodelink(res.json())"
   ]
  },
  {
   "cell_type": "code",
   "execution_count": null,
   "metadata": {},
   "outputs": [],
   "source": [
    "\n",
    "# Process the PyBEL graph into INDRA Statements\n",
    "pybel_proc = bel.process_pybel_graph(pybel_graph)\n",
    "\n",
    "# Note that of the ~4k statements in the PyBEL graph, only 831 are successfully\n",
    "# converted to INDRA statements in large part because of issues with namespaces\n",
    "covid_stmts = pybel_proc.statements\n",
    "stmt_hashes = [s.get_hash() for s in covid_stmts]\n",
    "\n",
    "# Use the INDRA Database REST API client to search for corresponding evidences\n",
    "# for 100 statements at a time\n",
    "db_stmts = []\n",
    "for hash_batch in batch_iter(stmt_hashes, 100):\n",
    "    idrp = idr.get_statements_by_hash(stmt_hashes, ev_limit=1000)\n",
    "    db_stmts.extend(idrp.statements)"
   ]
  }
 ],
 "metadata": {
  "kernelspec": {
   "display_name": "Python 3",
   "language": "python",
   "name": "python3"
  },
  "language_info": {
   "codemirror_mode": {
    "name": "ipython",
    "version": 3
   },
   "file_extension": ".py",
   "mimetype": "text/x-python",
   "name": "python",
   "nbconvert_exporter": "python",
   "pygments_lexer": "ipython3",
   "version": "3.6.8"
  }
 },
 "nbformat": 4,
 "nbformat_minor": 2
}
