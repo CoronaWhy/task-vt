{
 "cells": [
  {
   "cell_type": "code",
   "execution_count": 14,
   "metadata": {},
   "outputs": [],
   "source": [
    "import pandas as pd\n",
    "\n",
    "from sklearn.metrics import cohen_kappa_score"
   ]
  },
  {
   "cell_type": "code",
   "execution_count": 5,
   "metadata": {
    "scrolled": true
   },
   "outputs": [],
   "source": [
    "amy = pd.read_excel('C:\\\\Users\\\\SuresMal\\\\Downloads\\\\drug_individual_claims_filtered_phase2_Amy.xlsx',sheet_name='Sheet1')\n",
    "ege = pd.read_excel('C:\\\\Users\\\\SuresMal\\\\Downloads\\\\drug_individual_claims_filtered_phase2_Egehan.xlsx',sheet_name='Sheet2')\n",
    "ali = pd.read_excel('C:\\\\Users\\\\SuresMal\\\\Downloads\\\\drug_individual_claims_filtered_phase2_Ali.xlsx',sheet_name='Sheet2')"
   ]
  },
  {
   "cell_type": "code",
   "execution_count": 7,
   "metadata": {},
   "outputs": [],
   "source": [
    "final = amy.merge(ege,on=['paper1_cord_uid','paper2_cord_uid','text1','text2'],how='inner')\n",
    "final = final.merge(ali,on=['paper1_cord_uid','paper2_cord_uid','text1','text2'],how='inner')"
   ]
  },
  {
   "cell_type": "code",
   "execution_count": 10,
   "metadata": {},
   "outputs": [],
   "source": [
    "final.to_csv('C:\\\\Users\\\\SuresMal\\\\Documents\\\\GitHub\\\\task-vt\\\\contradictory_claims\\\\data\\\\annotations\\\\All_phase2.csv',header=True)"
   ]
  },
  {
   "cell_type": "code",
   "execution_count": 12,
   "metadata": {},
   "outputs": [],
   "source": [
    "data = pd.read_csv('C:\\\\Users\\\\SuresMal\\\\Documents\\\\GitHub\\\\task-vt\\\\contradictory_claims\\\\data\\\\annotations\\\\All_phase2.csv')"
   ]
  },
  {
   "cell_type": "code",
   "execution_count": 16,
   "metadata": {},
   "outputs": [
    {
     "name": "stdout",
     "output_type": "stream",
     "text": [
      "0.5098039215686274\n",
      "0.4680851063829786\n",
      "0.40828402366863903\n"
     ]
    }
   ],
   "source": [
    "print(cohen_kappa_score(data['Amy'],data['Egehan']))\n",
    "print(cohen_kappa_score(data['Amy'],data['Ali']))\n",
    "print(cohen_kappa_score(data['Ali'],data['Egehan']))"
   ]
  },
  {
   "cell_type": "code",
   "execution_count": 21,
   "metadata": {},
   "outputs": [],
   "source": [
    "data['Check'] = ((data['Amy']==data['Egehan']) & (data['Amy']==data['Ali']))"
   ]
  },
  {
   "cell_type": "code",
   "execution_count": 22,
   "metadata": {},
   "outputs": [
    {
     "data": {
      "text/plain": [
       "29"
      ]
     },
     "execution_count": 22,
     "metadata": {},
     "output_type": "execute_result"
    }
   ],
   "source": [
    "sum(data['Check'])"
   ]
  },
  {
   "cell_type": "code",
   "execution_count": 23,
   "metadata": {},
   "outputs": [],
   "source": [
    "data.to_csv('C:\\\\Users\\\\SuresMal\\\\Documents\\\\GitHub\\\\task-vt\\\\contradictory_claims\\\\data\\\\annotations\\\\All_phase2.csv',header=True)"
   ]
  }
 ],
 "metadata": {
  "kernelspec": {
   "display_name": "Python 3",
   "language": "python",
   "name": "python3"
  },
  "language_info": {
   "codemirror_mode": {
    "name": "ipython",
    "version": 3
   },
   "file_extension": ".py",
   "mimetype": "text/x-python",
   "name": "python",
   "nbconvert_exporter": "python",
   "pygments_lexer": "ipython3",
   "version": "3.7.6"
  }
 },
 "nbformat": 4,
 "nbformat_minor": 4
}
