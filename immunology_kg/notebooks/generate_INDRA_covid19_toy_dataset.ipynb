{
 "cells": [
  {
   "cell_type": "markdown",
   "metadata": {},
   "source": [
    "### Script Overview\n",
    "This script creates a toy dataset from INDRA covid19, hosted on emma.indra.bio \n",
    "\n",
    "Emma puts together this graph on daily basis via a cron job that pulls in literature, does NER,  train new ML model..\n",
    "It incorporates daily updates from CORD-19 and also searches the Internet, and runs about 6 text mining systems on those\n",
    "\n",
    "The script converts the graph to BEL format via pybel library. \n",
    "The pybel library can be used to further process the graph and generate toy dataset outputs. "
   ]
  },
  {
   "cell_type": "code",
   "execution_count": null,
   "metadata": {},
   "outputs": [],
   "source": [
    "import sys\n",
    "import os"
   ]
  },
  {
   "cell_type": "code",
   "execution_count": null,
   "metadata": {},
   "outputs": [],
   "source": [
    "#sys.path.insert(0,\"/home/USERNAME/pybel/src/\") # If you are using a local version of the file\n",
    "\n",
    "sys.path.append(\"/home/USERNAME/pybel/src/pybel/io/triples/\") # trying to read in pybel.io.triples.api\n",
    "print(sys.path)"
   ]
  },
  {
   "cell_type": "code",
   "execution_count": null,
   "metadata": {},
   "outputs": [],
   "source": [
    "from pybel.io.triples import api"
   ]
  },
  {
   "cell_type": "code",
   "execution_count": null,
   "metadata": {},
   "outputs": [],
   "source": [
    "# not working - IGNORE\n",
    "import imp\n",
    "imp.find_module(\"pybel\")\n",
    "import pybel\n",
    "#pybel.__path__\n",
    "triples_api = imp.load_source('api', \"/home/lani_lichtenstein/pybel/src/pybel/io/triples/api.py\")\n"
   ]
  },
  {
   "cell_type": "code",
   "execution_count": null,
   "metadata": {},
   "outputs": [],
   "source": [
    "#!python3 -m pip install indra --no-cache-dir --user"
   ]
  },
  {
   "cell_type": "code",
   "execution_count": null,
   "metadata": {},
   "outputs": [],
   "source": [
    "import getpass\n",
    "import os\n",
    "import sys\n",
    "import time\n",
    "\n",
    "import matplotlib.pyplot as plt\n",
    "import pandas as pd\n",
    "import pykeen\n",
    "import torch\n",
    "from pykeen.pipeline import pipeline\n",
    "import pybel\n",
    "import pybel_tools\n",
    "import indra\n",
    "\n",
    "\n",
    "%matplotlib inline"
   ]
  },
  {
   "cell_type": "code",
   "execution_count": null,
   "metadata": {},
   "outputs": [],
   "source": [
    "print(sys.version)"
   ]
  },
  {
   "cell_type": "code",
   "execution_count": null,
   "metadata": {},
   "outputs": [],
   "source": [
    "print(time.asctime())"
   ]
  },
  {
   "cell_type": "code",
   "execution_count": null,
   "metadata": {},
   "outputs": [],
   "source": [
    "print(getpass.getuser())"
   ]
  },
  {
   "cell_type": "code",
   "execution_count": null,
   "metadata": {},
   "outputs": [],
   "source": [
    "print(pykeen.get_version(with_git_hash=True))"
   ]
  },
  {
   "cell_type": "code",
   "execution_count": null,
   "metadata": {},
   "outputs": [],
   "source": [
    "print(pybel.get_version(with_git_hash=True))"
   ]
  },
  {
   "cell_type": "code",
   "execution_count": null,
   "metadata": {},
   "outputs": [],
   "source": [
    "# Convert Indra graph to Pybel\n",
    "#https://emmaa.indra.bio/dashboard/covid19?tab=model\n",
    "\n",
    "pybel_covid_graph=pybel.from_emmaa('covid19', date=\"2020-04-23-17-44-57\") "
   ]
  },
  {
   "cell_type": "code",
   "execution_count": null,
   "metadata": {},
   "outputs": [],
   "source": [
    "pybel_covid_graph.summarize() # summarise "
   ]
  },
  {
   "cell_type": "markdown",
   "metadata": {},
   "source": [
    "#### Approach A - Generate Triples\n",
    "\n",
    "One approach to generating a toy dataset is to generate triples. \n",
    "Triples can be used to generate knowledge graph embeddings. \n",
    "They also contain grounded source and target identifiers, as well as details relation descriptions. \n",
    "\n",
    "This is not obtained using Approach B - Generate Raw Data with Evidence"
   ]
  },
  {
   "cell_type": "code",
   "execution_count": null,
   "metadata": {},
   "outputs": [],
   "source": [
    "import pybel.io.tsv.api\n",
    "\n",
    "triples=pybel.io.tsv.api.get_triples(pybel_covid_graph)"
   ]
  },
  {
   "cell_type": "code",
   "execution_count": null,
   "metadata": {},
   "outputs": [],
   "source": [
    "import numpy as np\n",
    "triples = np.array(triples)"
   ]
  },
  {
   "cell_type": "code",
   "execution_count": null,
   "metadata": {},
   "outputs": [],
   "source": [
    "triples_df=pd.DataFrame(triples)"
   ]
  },
  {
   "cell_type": "code",
   "execution_count": null,
   "metadata": {},
   "outputs": [],
   "source": [
    "triples_df.to_csv(\"indra_covid_toy_dataset_triples.csv\",index=False,sep=\"\\t\",header=False)"
   ]
  },
  {
   "cell_type": "markdown",
   "metadata": {},
   "source": [
    "#### Approach B - Generate Toy Dataset with Raw Text and Evidence"
   ]
  },
  {
   "cell_type": "code",
   "execution_count": null,
   "metadata": {},
   "outputs": [],
   "source": [
    "pybel_graph = pybel_covid_graph # rename graph for simplicity\n",
    "\n",
    "# EXPLORE\n",
    "# Create list of relation types\n",
    "relations_pybel=pybel.struct.summary.count_relations(pybel_graph)\n",
    "relations=[]\n",
    "for i in relations_pybel.keys():\n",
    "    relations.append(i)\n",
    "\n",
    "print(\"There are \" + str(len(relations)) + \" relation types.\") \n",
    "relations # not as detailed as triples"
   ]
  },
  {
   "cell_type": "code",
   "execution_count": null,
   "metadata": {},
   "outputs": [],
   "source": [
    "import logging\n",
    "from pybel.dsl import BaseConcept\n",
    "from tqdm import tqdm\n",
    "#from pybel.io.triples import api\n",
    "\n",
    "column_list=[\"Source\", \"Target\", \"Relation\", \"Evidence\", \"Citation\"]\n",
    "indra_df=pd.DataFrame(columns=column_list)\n",
    "\n",
    "for u,v,data in tqdm(pybel_graph.edges(data=True)):\n",
    "\n",
    "    source='NaN'\n",
    "    target='NaN'\n",
    "    evidence='NaN'\n",
    "    relation='NaN'\n",
    "    annotations='NaN'\n",
    "    \n",
    "    #h,r,t=to_triple(u,v,data) https://github.com/pybel/pybel/blob/master/src/pybel/io/triples/api.py\n",
    "    \n",
    "    if isinstance(u, BaseConcept):\n",
    "        source=u.name\n",
    "        #source_obo=u.obo\n",
    "        \n",
    "    if isinstance(v, BaseConcept):\n",
    "        target=v.name\n",
    "        #for key in v.keys():\n",
    "        #    print(key)\n",
    "        #print(\"next\")\n",
    "        \n",
    "    if 'evidence' in data.keys():  # look also at pybel.has_edge_evidence() \n",
    "        #print(\"Explore evidence \\n\")\n",
    "        #print(data['evidence'])\n",
    "        evidence=data[\"evidence\"]\n",
    "    \n",
    "    if 'relation' in data.keys():\n",
    "        #print(\"Explore relation \\n\")\n",
    "        #print(data['relation'])\n",
    "        #print(\"\\n\")\n",
    "        relation=data['relation']\n",
    "        \n",
    "    if 'annotations' in data.keys():\n",
    "        #print(\"Explore relation \\n\")\n",
    "        #print(data['relation'])\n",
    "        #print(\"\\n\")\n",
    "        annotations=data['relation']\n",
    "        #print(annotations)\n",
    "        \n",
    "    if 'citation' in data.keys():\n",
    "        #print(\"Explore relation \\n\")\n",
    "        #print(data['relation'])\n",
    "        #print(\"\\n\")\n",
    "        citation=data['citation']\n",
    "        \n",
    "    tmp=pd.Series([source, target, relation, evidence, citation], index=column_list)\n",
    "    indra_df=indra_df.append(tmp, ignore_index=True)\n"
   ]
  },
  {
   "cell_type": "code",
   "execution_count": null,
   "metadata": {},
   "outputs": [],
   "source": [
    "# explore\n",
    "indra_df.shape\n",
    "indra_df.head()"
   ]
  },
  {
   "cell_type": "code",
   "execution_count": null,
   "metadata": {},
   "outputs": [],
   "source": [
    "indra_df.to_csv(\"indra_covid_toy_dataset_raw_evidence.csv\",index=False,sep=\"\\t\",header=False)"
   ]
  },
  {
   "cell_type": "code",
   "execution_count": null,
   "metadata": {},
   "outputs": [],
   "source": [
    "# filter for high belief score.. \n",
    "# ask Ben or John Bachman, Ben Gyori\n",
    "# filter statements with ontology- e.g. chebi as this is a toy graph\n"
   ]
  },
  {
   "cell_type": "code",
   "execution_count": null,
   "metadata": {},
   "outputs": [],
   "source": [
    "# to add triples - read in api.py module and use to_triple\n",
    "#https://github.com/pybel/pybel/blob/master/src/pybel/io/triples/api.py\n"
   ]
  }
 ],
 "metadata": {
  "kernelspec": {
   "display_name": "Python 3",
   "language": "python",
   "name": "python3"
  },
  "language_info": {
   "codemirror_mode": {
    "name": "ipython",
    "version": 3
   },
   "file_extension": ".py",
   "mimetype": "text/x-python",
   "name": "python",
   "nbconvert_exporter": "python",
   "pygments_lexer": "ipython3",
   "version": "3.6.9"
  }
 },
 "nbformat": 4,
 "nbformat_minor": 4
}
