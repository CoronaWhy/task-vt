{
 "cells": [
  {
   "cell_type": "code",
   "execution_count": 5,
   "metadata": {},
   "outputs": [
    {
     "data": {
      "text/plain": [
       "'\\nUsing a spaCy EntityRuler pipeline component to identify entities (virus terms, drug terms, etc.) in text passages.\\n\\n'"
      ]
     },
     "execution_count": 5,
     "metadata": {},
     "output_type": "execute_result"
    }
   ],
   "source": [
    "\"\"\"\n",
    "Using a spaCy EntityRuler pipeline component to identify entities (virus terms, drug terms, etc.) in text passages.\n",
    "\n",
    "Edit - Not sure if this is the direction we're going, so just used regex and pandas to filter the section texts for now.\n",
    "\"\"\""
   ]
  },
  {
   "cell_type": "code",
   "execution_count": 6,
   "metadata": {},
   "outputs": [],
   "source": [
    "import json\n",
    "import spacy\n",
    "import en_core_sci_lg\n",
    "from spacy.pipeline import EntityRuler\n",
    "import re\n",
    "import pandas as pd"
   ]
  },
  {
   "cell_type": "code",
   "execution_count": 280,
   "metadata": {},
   "outputs": [],
   "source": [
    "\"\"\"\n",
    "Input\n",
    "\"\"\"\n",
    "\n",
    "input_path = '../resources/'\n",
    "ent_ruler_jsonl_path = '%sspacy_entity_rulers/vt_task_entity_ruler_200501.jsonl' % input_path\n",
    "merged_text_vec_csv_path = '%scord_titles_abstracts_conclusions.csv' % input_path\n",
    "\n",
    "drug_terms_path = '%sspacy_entity_rulers/input/DrugNames.txt' % input_path\n",
    "\n",
    "\n",
    "\"\"\"\n",
    "Output\n",
    "\"\"\"\n",
    "\n",
    "output_path = '../output/'\n",
    "\n",
    "section_text_with_drugs_outpath = '%ssection_text_with_drug_mentions_200501.csv'\n",
    "section_text_with_drugs_ann_outpath = '%ssection_text_with_drug_mentions_ann_200501.csv'"
   ]
  },
  {
   "cell_type": "code",
   "execution_count": 281,
   "metadata": {},
   "outputs": [],
   "source": [
    "nlp = en_core_sci_lg.load()\n",
    "\n",
    "merged_text_vec_df = pd.read_csv(merged_text_vec_csv_path, index_col=0)"
   ]
  },
  {
   "cell_type": "code",
   "execution_count": 9,
   "metadata": {},
   "outputs": [
    {
     "data": {
      "text/plain": [
       "('ner', <spacy.pipeline.pipes.EntityRecognizer at 0x7eff784ade80>)"
      ]
     },
     "execution_count": 9,
     "metadata": {},
     "output_type": "execute_result"
    }
   ],
   "source": [
    "disabled = nlp.disable_pipes(\"tagger\", \"parser\", \"ner\")\n",
    "entity_ruler = EntityRuler(nlp)\n",
    "entity_ruler.from_disk(ent_ruler_jsonl_path)\n",
    "disabled.restore()\n",
    "\n",
    "nlp.add_pipe(entity_ruler, before='ner')\n",
    "nlp.remove_pipe('ner')\n"
   ]
  },
  {
   "cell_type": "code",
   "execution_count": 10,
   "metadata": {},
   "outputs": [],
   "source": [
    "def annotate_text_with_named_entities(text):\n",
    "    \"\"\"\n",
    "    Using an EntityRuler component, identify named entities and merge their component tokens.\n",
    "    :param passage (str): a text passage.\n",
    "    :return (Spacy.doc): a doc object that includes the identified named entities.\n",
    "    \"\"\"\n",
    "\n",
    "    doc = nlp(text.lower())\n",
    "    with doc.retokenize() as retokenizer:\n",
    "        for ent in doc.ents:\n",
    "            retokenizer.merge(ent)\n",
    "\n",
    "    return doc"
   ]
  },
  {
   "cell_type": "code",
   "execution_count": 257,
   "metadata": {},
   "outputs": [],
   "source": [
    "\"\"\"\n",
    "Merge all sentences belonging to each section of each paper into contiguous text passages.\n",
    "\"\"\"\n",
    "\n",
    "merged_text_vec_df\n",
    "\n",
    "concat_sent_df = merged_text_vec_df.groupby(['cord_uid', 'section'], as_index=False).agg({'sentence': ' '.join})\n",
    "concat_sent_df.loc[:, 'sentence'] = concat_sent_df.loc[:, 'sentence'].str.lower()\n",
    "\n",
    "concat_sent_df= concat_sent_df.rename(columns={'sentence' :'text'})"
   ]
  },
  {
   "cell_type": "code",
   "execution_count": 215,
   "metadata": {},
   "outputs": [],
   "source": [
    "\"\"\"\n",
    "Read drug terms from reference file and generate regex pattern for matching.\n",
    "\"\"\"\n",
    "\n",
    "with open(drug_terms_path) as f:\n",
    "    drug_terms = ['%s' % i.lower() for i in f.read().splitlines()]\n",
    "    \n",
    "drug_terms_pattern =  '\\W' + '\\W|\\W'.join(drug_terms) + '\\W'"
   ]
  },
  {
   "cell_type": "code",
   "execution_count": 217,
   "metadata": {},
   "outputs": [],
   "source": [
    "\"\"\"\n",
    "Filter to rows where section text contains drug term regex pattern.\n",
    "\"\"\"\n",
    "\n",
    "contain_drug_mask = concat_sent_df['text'].str.contains(drug_terms_pattern, case=False)\n",
    "section_text_with_drugs_df = concat_sent_df[contain_drug_mask]"
   ]
  },
  {
   "cell_type": "code",
   "execution_count": 249,
   "metadata": {},
   "outputs": [],
   "source": [
    "section_text_with_drugs_df.to_csv(se)"
   ]
  },
  {
   "cell_type": "code",
   "execution_count": null,
   "metadata": {},
   "outputs": [],
   "source": [
    "section_text_with_drugs_df.at"
   ]
  },
  {
   "cell_type": "code",
   "execution_count": 273,
   "metadata": {},
   "outputs": [],
   "source": [
    "\"\"\"\n",
    "Manual annotation of drug terms used.\n",
    "\n",
    "\"\"\"\n",
    "\n",
    "section_text_with_drugs_ann_df = section_text_with_drugs_df.copy()\n",
    "\n",
    "section_text_with_drugs_ann_df['drug_terms_used'] = ''\n",
    "\n",
    "for index, row in section_text_with_drugs_ann_df.iterrows():\n",
    "    \n",
    "    drugs_used = []\n",
    "    for drug in drug_terms:\n",
    "        if drug in row.text:\n",
    "            drugs_used.append(drug)\n",
    "    \n",
    "    section_text_with_drugs_ann_df.at[index, 'drug_terms_used'] = ','.join(drugs_used)\n",
    "    \n",
    "section_text_with_drugs_ann_df.to_csv('../output/section_texts_with_drug_mentions_ann_200501.csv')"
   ]
  },
  {
   "cell_type": "code",
   "execution_count": 232,
   "metadata": {},
   "outputs": [],
   "source": [
    "\"\"\"\n",
    "Manual checking for drug mentions excluded by regex search, using direct string matches.\n",
    "\n",
    "\"\"\"\n",
    "\n",
    "sections_texts = concat_sent_df.sentence.tolist()\n",
    "\n",
    "cord_uids_contain_drugs_manual_search_dict = {}\n",
    "\n",
    "idx = 0\n",
    "for idx, row in concat_sent_df.iterrows():\n",
    "    text = row.sentence\n",
    "    for drug in drug_terms:\n",
    "        if drug in text:\n",
    "            cord_uids_contain_drugs_manual_search_dict.setdefault(row.cord_uid, []).append(drug)\n",
    "            \n",
    "    idx +=1\n",
    "    \n",
    "cord_uids_with_manual_search_drugs = set(cord_uids_contain_drugs_manual_search_dict.keys())\n",
    "\n",
    "#Difference in cord_uid lists\n",
    "diff_cord_uids = cord_uids_with_manual_search_drugs - set(cord_uids_with_drugs)"
   ]
  },
  {
   "cell_type": "code",
   "execution_count": 267,
   "metadata": {},
   "outputs": [
    {
     "name": "stdout",
     "output_type": "stream",
     "text": [
      "the sars-cov-2 epidemic is one of the biggest challenges healthcare systems worldwide have ever had to face. to curb transmission many countries have adopted social distancing measures and travel restrictions. estimating the effect of these measures in each context is challenging and requires mathematical models of the transmission dynamics. projections for the future course of the epidemic strongly rely on model predictions and accurate representation of real-time data as they accumulate. here i develop an seir modeling framework for covid-19, to evaluate reported cases and fatalities, and to enable forecasting using evidence-based bayesian parameter estimation. this bayesian framework offers a tool to parametrize real-time dynamics of covid-19 cases, and explore the effect of control as it unfolds in any setting. i apply the model to covid-19 data from albania, where drastic control measures were put in place already on the day of the first confirmed case. evaluating the dynamics of reported cases 9-31 march 2020, i estimate parameters and make preliminary projections. three weeks into the measures, albanian data already indicate a strong signature of more than 40% transmission reduction, and lend support to a progressively increasing effect of control measures rather than a static one. in the albanian setting, the model and data match well, projecting the peak of the outbreak may be around 5-15 april, and be contained within 300 active confirmed cases if control continues with the same trend. this framework can be used to understand the quantitative effects of different control measures in real-time, and inform adaptive intervention for success in other settings. albania reported the first confirmed case of coronavirus disease (covid-19) on the 9th of march 2020. given very close travel connections with italy, where the epidemic grew very fast over the month of february, the concern over a major similar outbreak in albania was significant. immediately following the first case confirmation, country-wide measures were taken to drastically reduce transmission and contain the spread of infection. these included university and school closures, suspension of public gatherings, closure of bars and cafes, travel restrictions, and gradually a lockdown of the population. the parameters governing the epidemic course of covid-19 in albania remain unknown. the first week after the first detected case, official numbers indicated case counts amounting to a total 59 confirmed cases on march 18, with two fatalities (albanian institute of public health). the initial exponential growth rate of the number of cases in albania was r = 0.17 during the first week, coming from a doubling time of 4 days (1), but this has slowed down from march 14 onward. it is not known what will be the trajectory of the epidemic in this country. following the diagnosis of the first cases, the borders with italy, greece, kosovo were rapidly closed and many flights to other european destinations were limited or cancelled. the aim of this study is to provide a framework for interpreting and forecasting the real-time course of the epidemic as it unfolds in a given setting. i use the albanian data as an illustration for the application of the model. with the model and bayesian estimation, continuously-updating values for the parameters, underlying the epidemic course of covid-19, can be obtained, and continuously-updating projections. based on the model application to albania, the parameter estimates and their associated uncertainty, suggest clear positive effects of control measures and make precise quantitative projections about the magnitude and timing of the peak of this outbreak in albania.\n"
     ]
    }
   ],
   "source": [
    "diff_cord = 'ela022bo'\n",
    "\n",
    "drugs_used = cord_uids_contain_drugs_manual_search_dict[diff_cord]\n",
    "test_df = concat_sent_df.loc[concat_sent_df.cord_uid == diff_cord]\n",
    "\n",
    "for sent in test_df.text.tolist():\n",
    "    if 'lustra' in sent:\n",
    "        print(sent)\n"
   ]
  },
  {
   "cell_type": "code",
   "execution_count": 248,
   "metadata": {},
   "outputs": [
    {
     "name": "stdout",
     "output_type": "stream",
     "text": [
      "the sars-cov-2 epidemic is one of the biggest challenges healthcare systems worldwide have ever had to face. to curb transmission many countries have adopted social distancing measures and travel restrictions. estimating the effect of these measures in each context is challenging and requires mathematical models of the transmission dynamics. projections for the future course of the epidemic strongly rely on model predictions and accurate representation of real-time data as they accumulate. here i develop an seir modeling framework for covid-19, to evaluate reported cases and fatalities, and to enable forecasting using evidence-based bayesian parameter estimation. this bayesian framework offers a tool to parametrize real-time dynamics of covid-19 cases, and explore the effect of control as it unfolds in any setting. i apply the model to covid-19 data from albania, where drastic control measures were put in place already on the day of the first confirmed case. evaluating the dynamics of reported cases 9-31 march 2020, i estimate parameters and make preliminary projections. three weeks into the measures, albanian data already indicate a strong signature of more than 40% transmission reduction, and lend support to a progressively increasing effect of control measures rather than a static one. in the albanian setting, the model and data match well, projecting the peak of the outbreak may be around 5-15 april, and be contained within 300 active confirmed cases if control continues with the same trend. this framework can be used to understand the quantitative effects of different control measures in real-time, and inform adaptive intervention for success in other settings. albania reported the first confirmed case of coronavirus disease (covid-19) on the 9th of march 2020. given very close travel connections with italy, where the epidemic grew very fast over the month of february, the concern over a major similar outbreak in albania was significant. immediately following the first case confirmation, country-wide measures were taken to drastically reduce transmission and contain the spread of infection. these included university and school closures, suspension of public gatherings, closure of bars and cafes, travel restrictions, and gradually a lockdown of the population. the parameters governing the epidemic course of covid-19 in albania remain unknown. the first week after the first detected case, official numbers indicated case counts amounting to a total 59 confirmed cases on march 18, with two fatalities (albanian institute of public health). the initial exponential growth rate of the number of cases in albania was r = 0.17 during the first week, coming from a doubling time of 4 days (1), but this has slowed down from march 14 onward. it is not known what will be the trajectory of the epidemic in this country. following the diagnosis of the first cases, the borders with italy, greece, kosovo were rapidly closed and many flights to other european destinations were limited or cancelled. the aim of this study is to provide a framework for interpreting and forecasting the real-time course of the epidemic as it unfolds in a given setting. i use the albanian data as an illustration for the application of the model. with the model and bayesian estimation, continuously-updating values for the parameters, underlying the epidemic course of covid-19, can be obtained, and continuously-updating projections. based on the model application to albania, the parameter estimates and their associated uncertainty, suggest clear positive effects of control measures and make precise quantitative projections about the magnitude and timing of the peak of this outbreak in albania.\n"
     ]
    }
   ],
   "source": [
    "test_df = concat_sent_df.loc[concat_sent_df.cord_uid == 'ela022bo']\n",
    "\n",
    "for sent in test_df.sentence.tolist():\n",
    "    if 'lustra' in sent:\n",
    "        print(sent)"
   ]
  },
  {
   "cell_type": "code",
   "execution_count": 276,
   "metadata": {},
   "outputs": [
    {
     "data": {
      "text/plain": [
       "544"
      ]
     },
     "execution_count": 276,
     "metadata": {},
     "output_type": "execute_result"
    }
   ],
   "source": [
    "len(section_text_with_drugs_df.cord_uid.unique())"
   ]
  },
  {
   "cell_type": "code",
   "execution_count": 272,
   "metadata": {},
   "outputs": [
    {
     "data": {
      "text/plain": [
       "'objective: the sars-cov-2-infected disease (covid-19) outbreak is a major threat to human beings. previous studies mainly focused on wuhan and typical symptoms. we analysed 74 confirmed covid-19 cases with gi symptoms in the zhejiang province to determine epidemiological, clinical and virological characteristics. design: covid-19 hospital patients were admitted in the zhejiang province from 17 january 2020 to 8 february 2020. epidemiological, demographic, clinical, laboratory, management and outcome data of patients with gi symptoms were analysed using multivariate analysis for risk of severe/critical type. bioinformatics were used to analyse features of sars-cov-2 from zhejiang province. results: among enrolled 651 patients, 74 (11.4%) presented with at least one gi symptom (nausea, vomiting or diarrhoea), average age of 46.14 years, 4-day incubation period and 10.8% had pre-existing liver disease. of patients with covid-19 with gi symptoms, 17 (22.97%) and 23 (31.08%) had severe/critical types and family clustering, respectively, significantly higher than those without gi symptoms, 47 (8.14%) and 118 (20.45%). of patients with covid-19 with gi symptoms, 29 (39.19%), 23 (31.08%), 8 (10.81%) and 16 (21.62%) had significantly higher rates of fever >38.5°c, fatigue, shortness of breath and headache, respectively. low-dose glucocorticoids and antibiotics were administered to 14.86% and 41.89% of patients, respectively. sputum production and increased lactate dehydrogenase/glucose levels were risk factors for severe/critical type. bioinformatics showed sequence mutation of sars-cov-2 with m(6)a methylation and changed binding capacity with ace2. conclusion: we report covid-19 cases with gi symptoms with novel features outside wuhan. attention to patients with covid-19 with non-classic symptoms should increase to protect health providers.'"
      ]
     },
     "execution_count": 272,
     "metadata": {},
     "output_type": "execute_result"
    }
   ],
   "source": [
    "concat_sent_df.loc[concat_sent_df.cord_uid == 'zph6r4il'].loc[concat_sent_df.section == 'abstract'].text.tolist()[0]"
   ]
  },
  {
   "cell_type": "code",
   "execution_count": 278,
   "metadata": {},
   "outputs": [
    {
     "data": {
      "text/html": [
       "<div>\n",
       "<style scoped>\n",
       "    .dataframe tbody tr th:only-of-type {\n",
       "        vertical-align: middle;\n",
       "    }\n",
       "\n",
       "    .dataframe tbody tr th {\n",
       "        vertical-align: top;\n",
       "    }\n",
       "\n",
       "    .dataframe thead th {\n",
       "        text-align: right;\n",
       "    }\n",
       "</style>\n",
       "<table border=\"1\" class=\"dataframe\">\n",
       "  <thead>\n",
       "    <tr style=\"text-align: right;\">\n",
       "      <th></th>\n",
       "      <th>cord_uid</th>\n",
       "      <th>section</th>\n",
       "      <th>text</th>\n",
       "      <th>drug_terms_used</th>\n",
       "    </tr>\n",
       "  </thead>\n",
       "  <tbody>\n",
       "    <tr>\n",
       "      <th>14</th>\n",
       "      <td>02q9y011</td>\n",
       "      <td>RESULTS AND DISCUSSION</td>\n",
       "      <td>hypervariability in the nsp3 macro x domain-th...</td>\n",
       "      <td>amino acids,glycine,protein c,tandem</td>\n",
       "    </tr>\n",
       "    <tr>\n",
       "      <th>56</th>\n",
       "      <td>08vsaov7</td>\n",
       "      <td>DISCUSSION</td>\n",
       "      <td>the predominant pathological features of covid...</td>\n",
       "      <td>angiotensin ii</td>\n",
       "    </tr>\n",
       "    <tr>\n",
       "      <th>66</th>\n",
       "      <td>0a49okho</td>\n",
       "      <td>Discussion</td>\n",
       "      <td>the term 'flatten the curve', originating from...</td>\n",
       "      <td>stimate,tandem</td>\n",
       "    </tr>\n",
       "    <tr>\n",
       "      <th>82</th>\n",
       "      <td>0d77ojnb</td>\n",
       "      <td>Discussion and Conclusion</td>\n",
       "      <td>the rapid spread of sars-cov-2 represents a si...</td>\n",
       "      <td>heparin,cosamin,heparin,protein s</td>\n",
       "    </tr>\n",
       "    <tr>\n",
       "      <th>83</th>\n",
       "      <td>0d77ojnb</td>\n",
       "      <td>abstract</td>\n",
       "      <td>[{'text': 'many pathogens take advantage of th...</td>\n",
       "      <td>heparin,cosamin,heparin</td>\n",
       "    </tr>\n",
       "    <tr>\n",
       "      <th>...</th>\n",
       "      <td>...</td>\n",
       "      <td>...</td>\n",
       "      <td>...</td>\n",
       "      <td>...</td>\n",
       "    </tr>\n",
       "    <tr>\n",
       "      <th>9828</th>\n",
       "      <td>ziepfnpz</td>\n",
       "      <td>abstract</td>\n",
       "      <td>the epidemiological and clinical characteristi...</td>\n",
       "      <td>tacrolimus</td>\n",
       "    </tr>\n",
       "    <tr>\n",
       "      <th>9872</th>\n",
       "      <td>zn87f1lk</td>\n",
       "      <td>title</td>\n",
       "      <td>hydroxychloroquine, a less toxic derivative of...</td>\n",
       "      <td>chloroquine,chloroquine,hydroxychloroquine</td>\n",
       "    </tr>\n",
       "    <tr>\n",
       "      <th>9893</th>\n",
       "      <td>zph6r4il</td>\n",
       "      <td>abstract</td>\n",
       "      <td>objective: the sars-cov-2-infected disease (co...</td>\n",
       "      <td>lactate,ultiva</td>\n",
       "    </tr>\n",
       "    <tr>\n",
       "      <th>9949</th>\n",
       "      <td>zwqci59h</td>\n",
       "      <td>Discussion</td>\n",
       "      <td>although recent studies have reported epidemio...</td>\n",
       "      <td>compro,creatinine,cyclosporine,methylprednisol...</td>\n",
       "    </tr>\n",
       "    <tr>\n",
       "      <th>9962</th>\n",
       "      <td>zzljrkbf</td>\n",
       "      <td>abstract</td>\n",
       "      <td>objective to investigate the diagnostic value ...</td>\n",
       "      <td>immunoglobulin g</td>\n",
       "    </tr>\n",
       "  </tbody>\n",
       "</table>\n",
       "<p>766 rows × 4 columns</p>\n",
       "</div>"
      ],
      "text/plain": [
       "      cord_uid                    section  \\\n",
       "14    02q9y011     RESULTS AND DISCUSSION   \n",
       "56    08vsaov7                 DISCUSSION   \n",
       "66    0a49okho                 Discussion   \n",
       "82    0d77ojnb  Discussion and Conclusion   \n",
       "83    0d77ojnb                   abstract   \n",
       "...        ...                        ...   \n",
       "9828  ziepfnpz                   abstract   \n",
       "9872  zn87f1lk                      title   \n",
       "9893  zph6r4il                   abstract   \n",
       "9949  zwqci59h                 Discussion   \n",
       "9962  zzljrkbf                   abstract   \n",
       "\n",
       "                                                   text  \\\n",
       "14    hypervariability in the nsp3 macro x domain-th...   \n",
       "56    the predominant pathological features of covid...   \n",
       "66    the term 'flatten the curve', originating from...   \n",
       "82    the rapid spread of sars-cov-2 represents a si...   \n",
       "83    [{'text': 'many pathogens take advantage of th...   \n",
       "...                                                 ...   \n",
       "9828  the epidemiological and clinical characteristi...   \n",
       "9872  hydroxychloroquine, a less toxic derivative of...   \n",
       "9893  objective: the sars-cov-2-infected disease (co...   \n",
       "9949  although recent studies have reported epidemio...   \n",
       "9962  objective to investigate the diagnostic value ...   \n",
       "\n",
       "                                        drug_terms_used  \n",
       "14                 amino acids,glycine,protein c,tandem  \n",
       "56                                       angiotensin ii  \n",
       "66                                       stimate,tandem  \n",
       "82                    heparin,cosamin,heparin,protein s  \n",
       "83                              heparin,cosamin,heparin  \n",
       "...                                                 ...  \n",
       "9828                                         tacrolimus  \n",
       "9872         chloroquine,chloroquine,hydroxychloroquine  \n",
       "9893                                     lactate,ultiva  \n",
       "9949  compro,creatinine,cyclosporine,methylprednisol...  \n",
       "9962                                   immunoglobulin g  \n",
       "\n",
       "[766 rows x 4 columns]"
      ]
     },
     "execution_count": 278,
     "metadata": {},
     "output_type": "execute_result"
    }
   ],
   "source": [
    "section_text_with_drugs_ann_df"
   ]
  },
  {
   "cell_type": "code",
   "execution_count": 251,
   "metadata": {},
   "outputs": [
    {
     "data": {
      "text/plain": [
       "True"
      ]
     },
     "execution_count": 251,
     "metadata": {},
     "output_type": "execute_result"
    }
   ],
   "source": []
  },
  {
   "cell_type": "code",
   "execution_count": null,
   "metadata": {},
   "outputs": [],
   "source": []
  }
 ],
 "metadata": {
  "kernelspec": {
   "display_name": "Python 3",
   "language": "python",
   "name": "python3"
  },
  "language_info": {
   "codemirror_mode": {
    "name": "ipython",
    "version": 3
   },
   "file_extension": ".py",
   "mimetype": "text/x-python",
   "name": "python",
   "nbconvert_exporter": "python",
   "pygments_lexer": "ipython3",
   "version": "3.7.6"
  }
 },
 "nbformat": 4,
 "nbformat_minor": 2
}
