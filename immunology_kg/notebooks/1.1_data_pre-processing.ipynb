{
 "cells": [
  {
   "cell_type": "markdown",
   "metadata": {},
   "source": [
    "# Data pre-processing\n",
    "\n",
    "__Goal:__ Build dataset for training and evaluation relation extraction models\n",
    "\n",
    "__Method:__ Extract relation data from manually curated covid-19 kg, split into training and test sets\n",
    "\n",
    "__Data:__ [Covid-19 KG](https://github.com/covid19kg/covid19kg) from Fraunhofer Institute for Algorithms and Scientific Computing SCAI\n",
    "\n",
    "__Tools:__ PyBEL\n",
    "\n",
    "__Result:__ covid-19-kg dataset"
   ]
  },
  {
   "cell_type": "code",
   "execution_count": 1,
   "metadata": {},
   "outputs": [],
   "source": [
    "import requests\n",
    "import pybel\n",
    "import pandas as pd"
   ]
  },
  {
   "cell_type": "code",
   "execution_count": 2,
   "metadata": {},
   "outputs": [],
   "source": [
    "#load graph\n",
    "url = 'https://github.com/covid19kg/covid19kg/raw/master/covid19kg/_cache.bel.nodelink.json'\n",
    "res = requests.get(url)\n",
    "graph = pybel.from_nodelink(res.json())"
   ]
  },
  {
   "cell_type": "code",
   "execution_count": 3,
   "metadata": {},
   "outputs": [],
   "source": [
    "#export  graph as a tab-separated edge list.\n",
    "pybel.to_csv(graph, 'covid19kg_dataset.csv')"
   ]
  },
  {
   "cell_type": "code",
   "execution_count": 7,
   "metadata": {},
   "outputs": [],
   "source": [
    "#load csv\n",
    "dataset = pd.read_csv('covid19kg_dataset.csv', sep='\\t')"
   ]
  },
  {
   "cell_type": "code",
   "execution_count": 8,
   "metadata": {},
   "outputs": [
    {
     "data": {
      "text/html": [
       "<div>\n",
       "<style scoped>\n",
       "    .dataframe tbody tr th:only-of-type {\n",
       "        vertical-align: middle;\n",
       "    }\n",
       "\n",
       "    .dataframe tbody tr th {\n",
       "        vertical-align: top;\n",
       "    }\n",
       "\n",
       "    .dataframe thead th {\n",
       "        text-align: right;\n",
       "    }\n",
       "</style>\n",
       "<table border=\"1\" class=\"dataframe\">\n",
       "  <thead>\n",
       "    <tr style=\"text-align: right;\">\n",
       "      <th></th>\n",
       "      <th>a(CHEBI:\"(+)-Tetrandrine\")</th>\n",
       "      <th>negativeCorrelation</th>\n",
       "      <th>act(p(MGI:Tpcn2))</th>\n",
       "      <th>{\"annotations\": {\"PublicationStatus\": {\"Published\": true}, \"PublicationType\": {\"Research\": true}, \"Section\": {\"Results\": true}}, \"citation\": {\"authors\": [\"Chen J\", \"Chen T\", \"Chen X\", \"Guo L\", \"Guo R\", \"Hu J\", \"Hu K\", \"Jin Q\", \"Lei X\", \"Li P\", \"Liu Y\", \"Mi D\", \"Mu Z\", \"Ou X\", \"Qian Z\", \"Ren L\", \"Wang J\", \"Xiang Z\"], \"date\": \"2020-03-27\", \"db\": \"PubMed\", \"db_id\": \"32221306\", \"db_name\": \"Nature communications\", \"first\": \"Ou X\", \"last\": \"Qian Z\", \"pages\": \"1620\", \"volume\": \"11\"}, \"evidence\": \"While blocking TPC2 activity by tetrandrine, an inhibitor for TPC237, decreased entry of SARS-CoV-2 S pseudovirions (Fig. 3f), treatment of cells with 130, a TRPML1 inhibitor, had no effect (Supplementary Fig. 1), indicating that TPC2, not TRPML1, is important for SARS-CoV-2 entry.\", \"line\": 96, \"object\": {\"modifier\": \"Activity\"}, \"relation\": \"negativeCorrelation\"}</th>\n",
       "    </tr>\n",
       "  </thead>\n",
       "  <tbody>\n",
       "    <tr>\n",
       "      <th>0</th>\n",
       "      <td>a(CHEBI:\"(+)-Tetrandrine\")</td>\n",
       "      <td>negativeCorrelation</td>\n",
       "      <td>a(TAX:\"Severe acute respiratory syndrome coron...</td>\n",
       "      <td>{\"annotations\": {\"PublicationStatus\": {\"Publis...</td>\n",
       "    </tr>\n",
       "    <tr>\n",
       "      <th>1</th>\n",
       "      <td>a(CHEBI:\"(S)-verapamil\")</td>\n",
       "      <td>association</td>\n",
       "      <td>p(FIXME:orf9c)</td>\n",
       "      <td>{\"annotations\": {\"Experiment\": {\"Literature de...</td>\n",
       "    </tr>\n",
       "    <tr>\n",
       "      <th>2</th>\n",
       "      <td>a(CHEBI:\"(S)-verapamil\")</td>\n",
       "      <td>negativeCorrelation</td>\n",
       "      <td>path(DO:hypertension)</td>\n",
       "      <td>{\"annotations\": {\"Experiment\": {\"Literature de...</td>\n",
       "    </tr>\n",
       "    <tr>\n",
       "      <th>3</th>\n",
       "      <td>a(CHEBI:\"1-phenyl-1-cyclopentanecarboxylic aci...</td>\n",
       "      <td>partOf</td>\n",
       "      <td>complex(a(CHEBI:\"1-phenyl-1-cyclopentanecarbox...</td>\n",
       "      <td>{\"relation\": \"partOf\"}</td>\n",
       "    </tr>\n",
       "    <tr>\n",
       "      <th>4</th>\n",
       "      <td>a(CHEBI:\"3,3',5'-triiodothyronine\")</td>\n",
       "      <td>negativeCorrelation</td>\n",
       "      <td>path(DO:\"COVID-19\")</td>\n",
       "      <td>{\"annotations\": {\"Cohort_Median_Age\": {\"62 yea...</td>\n",
       "    </tr>\n",
       "  </tbody>\n",
       "</table>\n",
       "</div>"
      ],
      "text/plain": [
       "                          a(CHEBI:\"(+)-Tetrandrine\")  negativeCorrelation  \\\n",
       "0                         a(CHEBI:\"(+)-Tetrandrine\")  negativeCorrelation   \n",
       "1                           a(CHEBI:\"(S)-verapamil\")          association   \n",
       "2                           a(CHEBI:\"(S)-verapamil\")  negativeCorrelation   \n",
       "3  a(CHEBI:\"1-phenyl-1-cyclopentanecarboxylic aci...               partOf   \n",
       "4                a(CHEBI:\"3,3',5'-triiodothyronine\")  negativeCorrelation   \n",
       "\n",
       "                                   act(p(MGI:Tpcn2))  \\\n",
       "0  a(TAX:\"Severe acute respiratory syndrome coron...   \n",
       "1                                     p(FIXME:orf9c)   \n",
       "2                              path(DO:hypertension)   \n",
       "3  complex(a(CHEBI:\"1-phenyl-1-cyclopentanecarbox...   \n",
       "4                                path(DO:\"COVID-19\")   \n",
       "\n",
       "  {\"annotations\": {\"PublicationStatus\": {\"Published\": true}, \"PublicationType\": {\"Research\": true}, \"Section\": {\"Results\": true}}, \"citation\": {\"authors\": [\"Chen J\", \"Chen T\", \"Chen X\", \"Guo L\", \"Guo R\", \"Hu J\", \"Hu K\", \"Jin Q\", \"Lei X\", \"Li P\", \"Liu Y\", \"Mi D\", \"Mu Z\", \"Ou X\", \"Qian Z\", \"Ren L\", \"Wang J\", \"Xiang Z\"], \"date\": \"2020-03-27\", \"db\": \"PubMed\", \"db_id\": \"32221306\", \"db_name\": \"Nature communications\", \"first\": \"Ou X\", \"last\": \"Qian Z\", \"pages\": \"1620\", \"volume\": \"11\"}, \"evidence\": \"While blocking TPC2 activity by tetrandrine, an inhibitor for TPC237, decreased entry of SARS-CoV-2 S pseudovirions (Fig. 3f), treatment of cells with 130, a TRPML1 inhibitor, had no effect (Supplementary Fig. 1), indicating that TPC2, not TRPML1, is important for SARS-CoV-2 entry.\", \"line\": 96, \"object\": {\"modifier\": \"Activity\"}, \"relation\": \"negativeCorrelation\"}  \n",
       "0  {\"annotations\": {\"PublicationStatus\": {\"Publis...                                                                                                                                                                                                                                                                                                                                                                                                                                                                                                                                                                                                                                                                                                                                                                                                                                              \n",
       "1  {\"annotations\": {\"Experiment\": {\"Literature de...                                                                                                                                                                                                                                                                                                                                                                                                                                                                                                                                                                                                                                                                                                                                                                                                                                              \n",
       "2  {\"annotations\": {\"Experiment\": {\"Literature de...                                                                                                                                                                                                                                                                                                                                                                                                                                                                                                                                                                                                                                                                                                                                                                                                                                              \n",
       "3                             {\"relation\": \"partOf\"}                                                                                                                                                                                                                                                                                                                                                                                                                                                                                                                                                                                                                                                                                                                                                                                                                                              \n",
       "4  {\"annotations\": {\"Cohort_Median_Age\": {\"62 yea...                                                                                                                                                                                                                                                                                                                                                                                                                                                                                                                                                                                                                                                                                                                                                                                                                                              "
      ]
     },
     "execution_count": 8,
     "metadata": {},
     "output_type": "execute_result"
    }
   ],
   "source": [
    "dataset.head()"
   ]
  }
 ],
 "metadata": {
  "kernelspec": {
   "display_name": "Python 3",
   "language": "python",
   "name": "python3"
  },
  "language_info": {
   "codemirror_mode": {
    "name": "ipython",
    "version": 3
   },
   "file_extension": ".py",
   "mimetype": "text/x-python",
   "name": "python",
   "nbconvert_exporter": "python",
   "pygments_lexer": "ipython3",
   "version": "3.6.8"
  }
 },
 "nbformat": 4,
 "nbformat_minor": 2
}
