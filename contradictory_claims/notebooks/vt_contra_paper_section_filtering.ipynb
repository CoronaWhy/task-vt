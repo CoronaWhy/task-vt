{
 "cells": [
  {
   "cell_type": "code",
   "execution_count": 3,
   "metadata": {},
   "outputs": [],
   "source": [
    "import json\n",
    "#import spacy\n",
    "#import en_core_sci_lg\n",
    "#from spacy.pipeline import EntityRuler\n",
    "import re\n",
    "import pandas as pd"
   ]
  },
  {
   "cell_type": "code",
   "execution_count": 4,
   "metadata": {},
   "outputs": [],
   "source": [
    "\"\"\"\n",
    "Input\n",
    "\"\"\"\n",
    "\n",
    "input_path = '../data/v31_processed/'\n",
    "merged_text_vec_csv_path = '%scord_titles_abstracts_conclusions_200620.csv' % input_path\n",
    "\n",
    "drug_terms_path = '../data/DrugNames.txt'\n",
    "\n",
    "\n",
    "\"\"\"\n",
    "Output\n",
    "\"\"\"\n",
    "\n",
    "output_path = '../data/v31_processed/'\n",
    "\n",
    "section_text_with_drugs_outpath = '%ssection_text_with_drug_mentions_200620.csv' %output_path\n",
    "section_text_with_drugs_ann_outpath = '%ssection_text_with_drug_mentions_ann_200620.csv' %output_path"
   ]
  },
  {
   "cell_type": "code",
   "execution_count": 5,
   "metadata": {},
   "outputs": [],
   "source": [
    "#nlp = en_core_sci_lg.load()\n",
    "\n",
    "merged_text_vec_df = pd.read_csv(merged_text_vec_csv_path, index_col=0)"
   ]
  },
  {
   "cell_type": "code",
   "execution_count": 6,
   "metadata": {},
   "outputs": [],
   "source": [
    "\"\"\"\n",
    "Merge all sentences belonging to each section of each paper into contiguous text passages.\n",
    "\"\"\"\n",
    "\n",
    "merged_text_vec_df\n",
    "\n",
    "concat_sent_df = merged_text_vec_df.groupby(['cord_uid', 'section'], as_index=False).agg({'sentence': ' '.join})\n",
    "concat_sent_df.loc[:, 'sentence'] = concat_sent_df.loc[:, 'sentence'].str.lower()\n",
    "\n",
    "concat_sent_df= concat_sent_df.rename(columns={'sentence' :'text'})"
   ]
  },
  {
   "cell_type": "code",
   "execution_count": 7,
   "metadata": {},
   "outputs": [],
   "source": [
    "\"\"\"\n",
    "Read drug terms from reference file and generate regex pattern for matching.\n",
    "\"\"\"\n",
    "\n",
    "with open(drug_terms_path) as f:\n",
    "    drug_terms = ['%s' % i.lower() for i in f.read().splitlines()]\n",
    "    \n",
    "drug_terms_pattern =  '\\W' + '\\W|\\W'.join(drug_terms) + '\\W'"
   ]
  },
  {
   "cell_type": "code",
   "execution_count": 8,
   "metadata": {},
   "outputs": [],
   "source": [
    "\"\"\"\n",
    "Filter to rows where section text contains drug term regex pattern.\n",
    "\"\"\"\n",
    "\n",
    "contain_drug_mask = concat_sent_df['text'].str.contains(drug_terms_pattern, case=False)\n",
    "section_text_with_drugs_df = concat_sent_df[contain_drug_mask]"
   ]
  },
  {
   "cell_type": "code",
   "execution_count": 9,
   "metadata": {},
   "outputs": [],
   "source": [
    "section_text_with_drugs_df.to_csv(section_text_with_drugs_outpath)"
   ]
  },
  {
   "cell_type": "code",
   "execution_count": 11,
   "metadata": {},
   "outputs": [
    {
     "name": "stdout",
     "output_type": "stream",
     "text": [
      "Number of papers after filtering for drug mentions: 2564\n"
     ]
    }
   ],
   "source": [
    "print('Number of papers after filtering for drug mentions:',len(section_text_with_drugs_df.cord_uid.unique()))"
   ]
  },
  {
   "cell_type": "code",
   "execution_count": 13,
   "metadata": {},
   "outputs": [],
   "source": [
    "title_data = section_text_with_drugs_df.loc[section_text_with_drugs_df.section.str.lower()=='title',:]\n",
    "abstract_data = section_text_with_drugs_df.loc[section_text_with_drugs_df.section.str.lower()=='abstract',:]\n",
    "conclusion_data = section_text_with_drugs_df.loc[(section_text_with_drugs_df.section.str.lower()!='title') & (section_text_with_drugs_df.section.str.lower()!='abstract'),:]"
   ]
  },
  {
   "cell_type": "code",
   "execution_count": 14,
   "metadata": {},
   "outputs": [
    {
     "name": "stdout",
     "output_type": "stream",
     "text": [
      "Number of papers: 2564\n",
      "Number of papers with title: 0\n",
      "Number of papers with abstract: 978\n",
      "Number of papers with conclusion: 2116\n"
     ]
    }
   ],
   "source": [
    "print('Number of papers:', section_text_with_drugs_df.cord_uid.nunique())\n",
    "print('Number of papers with title:', title_data.cord_uid.nunique())\n",
    "print('Number of papers with abstract:', abstract_data.cord_uid.nunique())\n",
    "print('Number of papers with conclusion:', conclusion_data.cord_uid.nunique())"
   ]
  },
  {
   "cell_type": "code",
   "execution_count": 15,
   "metadata": {},
   "outputs": [],
   "source": [
    "\"\"\"\n",
    "Manual annotation of drug terms used.\n",
    "\n",
    "\"\"\"\n",
    "\n",
    "section_text_with_drugs_ann_df = section_text_with_drugs_df.copy()\n",
    "\n",
    "section_text_with_drugs_ann_df['drug_terms_used'] = ''\n",
    "\n",
    "for index, row in section_text_with_drugs_ann_df.iterrows():\n",
    "    \n",
    "    drugs_used = []\n",
    "    for drug in drug_terms:\n",
    "        if drug in row.text:\n",
    "            drugs_used.append(drug)\n",
    "    \n",
    "    section_text_with_drugs_ann_df.at[index, 'drug_terms_used'] = ','.join(drugs_used)\n",
    "    \n",
    "section_text_with_drugs_ann_df.to_csv(section_text_with_drugs_ann_outpath)"
   ]
  },
  {
   "cell_type": "code",
   "execution_count": 16,
   "metadata": {
    "collapsed": true
   },
   "outputs": [
    {
     "data": {
      "text/html": [
       "<div>\n",
       "<style scoped>\n",
       "    .dataframe tbody tr th:only-of-type {\n",
       "        vertical-align: middle;\n",
       "    }\n",
       "\n",
       "    .dataframe tbody tr th {\n",
       "        vertical-align: top;\n",
       "    }\n",
       "\n",
       "    .dataframe thead th {\n",
       "        text-align: right;\n",
       "    }\n",
       "</style>\n",
       "<table border=\"1\" class=\"dataframe\">\n",
       "  <thead>\n",
       "    <tr style=\"text-align: right;\">\n",
       "      <th></th>\n",
       "      <th>cord_uid</th>\n",
       "      <th>section</th>\n",
       "      <th>text</th>\n",
       "      <th>drug_terms_used</th>\n",
       "    </tr>\n",
       "  </thead>\n",
       "  <tbody>\n",
       "    <tr>\n",
       "      <th>26</th>\n",
       "      <td>019rcbpg</td>\n",
       "      <td>Potential biological mechanisms of SARS-CoV-2 ...</td>\n",
       "      <td>there are indications in the literature of a n...</td>\n",
       "      <td>ifn-gamma</td>\n",
       "    </tr>\n",
       "    <tr>\n",
       "      <th>30</th>\n",
       "      <td>01es0zv4</td>\n",
       "      <td>Abstract</td>\n",
       "      <td>coronavirus disease 2019 has become a global p...</td>\n",
       "      <td>chloroquine,lopinavir,remdesivir,ritonavir,azi...</td>\n",
       "    </tr>\n",
       "    <tr>\n",
       "      <th>31</th>\n",
       "      <td>01es0zv4</td>\n",
       "      <td>CONCLUSION</td>\n",
       "      <td>covid-19 is a pandemic with high morbidity and...</td>\n",
       "      <td>chloroquine,lopinavir,remdesivir,ritonavir,azi...</td>\n",
       "    </tr>\n",
       "    <tr>\n",
       "      <th>32</th>\n",
       "      <td>01es0zv4</td>\n",
       "      <td>CONCLUSION:</td>\n",
       "      <td>covid-19 is a pandemic with high morbidity and...</td>\n",
       "      <td>chloroquine,lopinavir,remdesivir,ritonavir,azi...</td>\n",
       "    </tr>\n",
       "    <tr>\n",
       "      <th>39</th>\n",
       "      <td>01lyavy2</td>\n",
       "      <td>Abstract</td>\n",
       "      <td>then, the really positive treatment could be t...</td>\n",
       "      <td>protein s</td>\n",
       "    </tr>\n",
       "    <tr>\n",
       "      <th>...</th>\n",
       "      <td>...</td>\n",
       "      <td>...</td>\n",
       "      <td>...</td>\n",
       "      <td>...</td>\n",
       "    </tr>\n",
       "    <tr>\n",
       "      <th>28040</th>\n",
       "      <td>zrg2z17n</td>\n",
       "      <td>Abstract</td>\n",
       "      <td>the covid-19 pandemic has claimed over 150,000...</td>\n",
       "      <td>vitamin d</td>\n",
       "    </tr>\n",
       "    <tr>\n",
       "      <th>28070</th>\n",
       "      <td>zsz9xnxt</td>\n",
       "      <td>Discussion</td>\n",
       "      <td>we demonstrate that mechanically ventilated pa...</td>\n",
       "      <td>carbon dioxide</td>\n",
       "    </tr>\n",
       "    <tr>\n",
       "      <th>28094</th>\n",
       "      <td>zv0ysi8m</td>\n",
       "      <td>Abstract</td>\n",
       "      <td>sars-cov-2 is a novel strain of coronavirus th...</td>\n",
       "      <td>chloroquine,favipiravir,remdesivir,chloroquine</td>\n",
       "    </tr>\n",
       "    <tr>\n",
       "      <th>28095</th>\n",
       "      <td>zv0ysi8m</td>\n",
       "      <td>Conclusions</td>\n",
       "      <td>sars-cov-2 has been declared a pandemic that c...</td>\n",
       "      <td>chloroquine,favipiravir,remdesivir,chloroquine</td>\n",
       "    </tr>\n",
       "    <tr>\n",
       "      <th>28121</th>\n",
       "      <td>zwqci59h</td>\n",
       "      <td>Discussion</td>\n",
       "      <td>although recent studies have reported epidemio...</td>\n",
       "      <td>compro,cyclosporine,methylprednisolone,prednis...</td>\n",
       "    </tr>\n",
       "  </tbody>\n",
       "</table>\n",
       "<p>3943 rows × 4 columns</p>\n",
       "</div>"
      ],
      "text/plain": [
       "       cord_uid                                            section  \\\n",
       "26     019rcbpg  Potential biological mechanisms of SARS-CoV-2 ...   \n",
       "30     01es0zv4                                           Abstract   \n",
       "31     01es0zv4                                         CONCLUSION   \n",
       "32     01es0zv4                                        CONCLUSION:   \n",
       "39     01lyavy2                                           Abstract   \n",
       "...         ...                                                ...   \n",
       "28040  zrg2z17n                                           Abstract   \n",
       "28070  zsz9xnxt                                         Discussion   \n",
       "28094  zv0ysi8m                                           Abstract   \n",
       "28095  zv0ysi8m                                        Conclusions   \n",
       "28121  zwqci59h                                         Discussion   \n",
       "\n",
       "                                                    text  \\\n",
       "26     there are indications in the literature of a n...   \n",
       "30     coronavirus disease 2019 has become a global p...   \n",
       "31     covid-19 is a pandemic with high morbidity and...   \n",
       "32     covid-19 is a pandemic with high morbidity and...   \n",
       "39     then, the really positive treatment could be t...   \n",
       "...                                                  ...   \n",
       "28040  the covid-19 pandemic has claimed over 150,000...   \n",
       "28070  we demonstrate that mechanically ventilated pa...   \n",
       "28094  sars-cov-2 is a novel strain of coronavirus th...   \n",
       "28095  sars-cov-2 has been declared a pandemic that c...   \n",
       "28121  although recent studies have reported epidemio...   \n",
       "\n",
       "                                         drug_terms_used  \n",
       "26                                             ifn-gamma  \n",
       "30     chloroquine,lopinavir,remdesivir,ritonavir,azi...  \n",
       "31     chloroquine,lopinavir,remdesivir,ritonavir,azi...  \n",
       "32     chloroquine,lopinavir,remdesivir,ritonavir,azi...  \n",
       "39                                             protein s  \n",
       "...                                                  ...  \n",
       "28040                                          vitamin d  \n",
       "28070                                     carbon dioxide  \n",
       "28094     chloroquine,favipiravir,remdesivir,chloroquine  \n",
       "28095     chloroquine,favipiravir,remdesivir,chloroquine  \n",
       "28121  compro,cyclosporine,methylprednisolone,prednis...  \n",
       "\n",
       "[3943 rows x 4 columns]"
      ]
     },
     "execution_count": 16,
     "metadata": {},
     "output_type": "execute_result"
    }
   ],
   "source": [
    "section_text_with_drugs_ann_df"
   ]
  },
  {
   "cell_type": "code",
   "execution_count": 20,
   "metadata": {},
   "outputs": [],
   "source": [
    "\"\"\"\n",
    "Manual checking for drug mentions excluded by regex search, using direct string matches.\n",
    "\n",
    "\"\"\"\n",
    "\n",
    "sections_texts = concat_sent_df.text.tolist()\n",
    "\n",
    "cord_uids_contain_drugs_manual_search_dict = {}\n",
    "\n",
    "idx = 0\n",
    "for idx, row in concat_sent_df.iterrows():\n",
    "    text = row.text\n",
    "    for drug in drug_terms:\n",
    "        if drug in text:\n",
    "            cord_uids_contain_drugs_manual_search_dict.setdefault(row.cord_uid, []).append(drug)\n",
    "            \n",
    "    idx +=1\n",
    "    \n",
    "cord_uids_with_manual_search_drugs = set(cord_uids_contain_drugs_manual_search_dict.keys())\n",
    "\n",
    "#Difference in cord_uid lists\n",
    "diff_cord_uids = cord_uids_with_manual_search_drugs - set(section_text_with_drugs_df.cord_uid)"
   ]
  },
  {
   "cell_type": "code",
   "execution_count": 23,
   "metadata": {},
   "outputs": [
    {
     "data": {
      "text/plain": [
       "3517"
      ]
     },
     "execution_count": 23,
     "metadata": {},
     "output_type": "execute_result"
    }
   ],
   "source": [
    "len(diff_cord_uids)"
   ]
  },
  {
   "cell_type": "code",
   "execution_count": 22,
   "metadata": {},
   "outputs": [
    {
     "name": "stdout",
     "output_type": "stream",
     "text": [
      "0 the covid-19 outbreak has been a serious public health threat worldwide. we use individually documented case descriptions of covid-19 from china (excluding hubei province) to estimate the distributions of the generation time, incubation period, and periods from symptom onset to isolation and to diagnosis. the recommended 14-day quarantine period may lead to a 6.7% failure for quarantine. we recommend a 22-day quarantine period. the mean generation time is 3.3 days and the mean incubation period is 7.2 days. it took 3.7 days to isolate and 6.6 days to diagnose a patient after his/her symptom onset. patients may become infectious on average 3.9 days before showing major symptoms. this makes contact tracing and quarantine ineffective. the basic reproduction number is estimated to be 1.54 with contact tracing, quarantine and isolation, mostly driven by super spreaders.\n"
     ]
    }
   ],
   "source": [
    "diff_cord = 'px0twvhs'\n",
    "\n",
    "drugs_used = cord_uids_contain_drugs_manual_search_dict[diff_cord]\n",
    "test_df = concat_sent_df.loc[concat_sent_df.cord_uid == diff_cord]\n",
    "\n",
    "for i,sent in enumerate(test_df.text.tolist()):\n",
    "    #if 'lustra' in sent:\n",
    "    print(i,sent)\n"
   ]
  }
 ],
 "metadata": {
  "kernelspec": {
   "display_name": "Python 3",
   "language": "python",
   "name": "python3"
  },
  "language_info": {
   "codemirror_mode": {
    "name": "ipython",
    "version": 3
   },
   "file_extension": ".py",
   "mimetype": "text/x-python",
   "name": "python",
   "nbconvert_exporter": "python",
   "pygments_lexer": "ipython3",
   "version": "3.7.6"
  }
 },
 "nbformat": 4,
 "nbformat_minor": 2
}
