{
 "cells": [
  {
   "cell_type": "code",
   "execution_count": 1,
   "metadata": {},
   "outputs": [],
   "source": [
    "# This script finds matches to sets of words in tokenized datasets using the parser helper functions.  \n",
    "# It can run over titles, abstracts, body text, etc, and using either lemmatized or direct text matching\n",
    "\n",
    "# Before running, place a softlink to the CORD-19-research-challenge root directory in the same\n",
    "# folder as this file, so that papers live at e.g.  \n",
    "#   ./CORD-19-research-challenge/comm_use_subset/comm_use_subset/\n",
    "\n",
    "# Warning, using full body parsing and lemmatized data can be quite time consuming.\n",
    "#\n",
    "# initial commit by Ben Jones (ben.jones@uta.edu) for the CoronaWhy project. Awesome edit\n"
   ]
  },
  {
   "cell_type": "code",
   "execution_count": 2,
   "metadata": {},
   "outputs": [],
   "source": [
    "from parser_helpers import *"
   ]
  },
  {
   "cell_type": "code",
   "execution_count": null,
   "metadata": {},
   "outputs": [
    {
     "name": "stdout",
     "output_type": "stream",
     "text": [
      "./CORD-19-research-challenge/noncomm_use_subset/noncomm_use_subset/\n",
      "./CORD-19-research-challenge/comm_use_subset/comm_use_subset/\n",
      "./CORD-19-research-challenge/biorxiv_medrxiv/biorxiv_medrxiv/\n",
      "./CORD-19-research-challenge/custom_license/custom_license/\n",
      "./CORD-19-research-challenge/noncomm_use_subset/noncomm_use_subset/\n",
      "./CORD-19-research-challenge/comm_use_subset/comm_use_subset/\n",
      "./CORD-19-research-challenge/biorxiv_medrxiv/biorxiv_medrxiv/\n",
      "./CORD-19-research-challenge/custom_license/custom_license/\n",
      "./CORD-19-research-challenge/noncomm_use_subset/noncomm_use_subset/\n",
      "./CORD-19-research-challenge/comm_use_subset/comm_use_subset/\n",
      "./CORD-19-research-challenge/biorxiv_medrxiv/biorxiv_medrxiv/\n",
      "./CORD-19-research-challenge/custom_license/custom_license/\n",
      "./CORD-19-research-challenge/noncomm_use_subset/noncomm_use_subset/\n",
      "./CORD-19-research-challenge/comm_use_subset/comm_use_subset/\n",
      "./CORD-19-research-challenge/biorxiv_medrxiv/biorxiv_medrxiv/\n",
      "./CORD-19-research-challenge/custom_license/custom_license/\n",
      "./CORD-19-research-challenge/noncomm_use_subset/noncomm_use_subset/\n",
      "./CORD-19-research-challenge/comm_use_subset/comm_use_subset/\n",
      "./CORD-19-research-challenge/biorxiv_medrxiv/biorxiv_medrxiv/\n",
      "./CORD-19-research-challenge/custom_license/custom_license/\n",
      "./CORD-19-research-challenge/noncomm_use_subset/noncomm_use_subset/\n"
     ]
    }
   ],
   "source": [
    "Words=[\"COVID-19\", \"Coronavirus\", \"Corona\", \"2019-nCoV\", \"SARS-CoV\",]\n",
    "ExtractToCSV(Words, \"TitleAbstractBodyMatches_virusnames.csv\", Lemmatized=False,RunBody=True)\n",
    "\n",
    "Words=np.loadtxt(\"DrugNames.txt\",dtype='str')\n",
    "ExtractToCSV(Words, \"TitleAbstractBodyMatches_drugs.csv\", Lemmatized=False,RunBody=True)\n",
    "\n",
    "Words=['treat','treatment' 'alleviate', 'manage', 'suppress','suppression', 'prescribe','therapy','cure','remedy', 'therapeutic','administer']\n",
    "ExtractToCSV(Words, \"TitleAbstractBodyMatches_therapies.csv\", Lemmatized=True,RunBody=True)\n",
    "\n",
    "Words=[\"vitro\", \"vivo\", \"in-vitro\", \"in-vivo\", \"mouse\",\"mice\",\"clinial\",\"human\",\"computational\",\"vertical\",\"horizontal\",\"theoretical\",\"simulation\"]\n",
    "ExtractToCSV(Words, \"TitleAbstractBodyMatches_exptypes.csv\", Lemmatized=True,RunBody=True)"
   ]
  },
  {
   "cell_type": "code",
   "execution_count": null,
   "metadata": {},
   "outputs": [],
   "source": []
  }
 ],
 "metadata": {
  "kernelspec": {
   "display_name": "Python 3",
   "language": "python",
   "name": "python3"
  },
  "language_info": {
   "codemirror_mode": {
    "name": "ipython",
    "version": 3
   },
   "file_extension": ".py",
   "mimetype": "text/x-python",
   "name": "python",
   "nbconvert_exporter": "python",
   "pygments_lexer": "ipython3",
   "version": "3.7.7"
  }
 },
 "nbformat": 4,
 "nbformat_minor": 2
}
